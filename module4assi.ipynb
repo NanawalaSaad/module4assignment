{
  "nbformat": 4,
  "nbformat_minor": 0,
  "metadata": {
    "colab": {
      "provenance": []
    },
    "kernelspec": {
      "name": "python3",
      "display_name": "Python 3"
    },
    "language_info": {
      "name": "python"
    }
  },
  "cells": [
    {
      "cell_type": "markdown",
      "source": [
        "## **Theory Based Question**"
      ],
      "metadata": {
        "id": "z5t_ebdOligq"
      }
    },
    {
      "cell_type": "markdown",
      "source": [
        "What is the difference between interpreted and compiled languages?\n",
        "\n",
        "Interpreted languages run line by line, compiled convert entire code before execution.\n",
        "\n"
      ],
      "metadata": {
        "id": "3ZoiocCSly2h"
      }
    },
    {
      "cell_type": "markdown",
      "source": [
        "What is exception handling in Python?\n",
        "\n",
        "A: Exception handling lets you handle runtime errors using try-except blocks.\n",
        "\n"
      ],
      "metadata": {
        "id": "uTkH8udhmQMS"
      }
    },
    {
      "cell_type": "markdown",
      "source": [
        "What is the purpose of the finally block in exception handling?\n",
        "\n",
        "The 'finally' block runs no matter what, to ensure cleanup code executes.\n"
      ],
      "metadata": {
        "id": "wVwpXPq7mbao"
      }
    },
    {
      "cell_type": "markdown",
      "source": [
        "What is logging in Python?\n",
        "\n",
        "Logging records messages or errors in your code using the logging module.\n",
        "\n"
      ],
      "metadata": {
        "id": "TuQyKMZPmhd0"
      }
    },
    {
      "cell_type": "markdown",
      "source": [
        "What is the significance of the __del__ method in Python?\n",
        "\n",
        " __del__ is a destructor method, called when an object is deleted.\n",
        "\n"
      ],
      "metadata": {
        "id": "jqMOX3rOmoCq"
      }
    },
    {
      "cell_type": "markdown",
      "source": [
        "What is the difference between import and from ... import in Python?\n",
        "\n",
        "'import' imports entire module; 'from...import' imports specific functions.\n"
      ],
      "metadata": {
        "id": "5sOEzVgSmsq0"
      }
    },
    {
      "cell_type": "markdown",
      "source": [
        "How can you handle multiple exceptions in Python?\n",
        "\n",
        "Use multiple except blocks or combine exceptions in a tuple.\n",
        "\n"
      ],
      "metadata": {
        "id": "jdQoBW4rmzRA"
      }
    },
    {
      "cell_type": "markdown",
      "source": [
        "What is the purpose of the with statement when handling files in Python?\n",
        "\n",
        "'with' ensures the file is closed automatically after use.\n",
        "\n"
      ],
      "metadata": {
        "id": "5S2QxeB5m6tv"
      }
    },
    {
      "cell_type": "markdown",
      "source": [
        "What is the difference between multithreading and multiprocessing?\n",
        "\n",
        "Multithreading = multiple threads in one process; multiprocessing = multiple processes.\n",
        "\n"
      ],
      "metadata": {
        "id": "omW5Vhdzm9IK"
      }
    },
    {
      "cell_type": "markdown",
      "source": [
        "What are the advantages of using logging in a program?\n",
        "\n",
        "\n",
        "Logging helps debug and track program flow and errors.\n",
        "\n"
      ],
      "metadata": {
        "id": "rIaBdVAdnCin"
      }
    },
    {
      "cell_type": "markdown",
      "source": [
        "What is memory management in Python?\n",
        "\n",
        "Python uses reference counting and garbage collection for memory management.\n",
        "\n"
      ],
      "metadata": {
        "id": "eMf8W5qGnIue"
      }
    },
    {
      "cell_type": "markdown",
      "source": [
        "What are the basic steps involved in exception handling in Python?\n",
        "\n",
        "Steps: try → except → else → finally\n"
      ],
      "metadata": {
        "id": "vOZwYfxanLyO"
      }
    },
    {
      "cell_type": "markdown",
      "source": [
        "Why is memory management important in Python?\n",
        "\n",
        "It reduces memory leaks and improves performance.\n",
        "\n"
      ],
      "metadata": {
        "id": "muYYjb3YnQvT"
      }
    },
    {
      "cell_type": "markdown",
      "source": [
        "What is the role of try and except in exception handling?\n",
        "\n",
        "try block runs code; except catches error.\n",
        "\n"
      ],
      "metadata": {
        "id": "X1Z8EbktnbMC"
      }
    },
    {
      "cell_type": "markdown",
      "source": [
        "How does Python's garbage collection system work?\n",
        "\n",
        "Uses ref counting and generational garbage collection.\n",
        "\n"
      ],
      "metadata": {
        "id": "lGr5aIgMndsc"
      }
    },
    {
      "cell_type": "markdown",
      "source": [
        "What is the purpose of the else block in exception handling?\n",
        "\n",
        "'else' runs only if no exception occurs.\n",
        "\n"
      ],
      "metadata": {
        "id": "LDHe8XeKnhRO"
      }
    },
    {
      "cell_type": "markdown",
      "source": [
        "What are the common logging levels in Python?\n",
        "\n",
        "DEBUG, INFO, WARNING, ERROR, CRITICAL.\n",
        "\n"
      ],
      "metadata": {
        "id": "RL7aoUPonlqu"
      }
    },
    {
      "cell_type": "markdown",
      "source": [
        "What is the difference between os.fork() and multiprocessing in Python?\n",
        "\n",
        "os.fork() creates a new child process; multiprocessing is cross-platform.\n",
        "\n"
      ],
      "metadata": {
        "id": "oY76zMbInqmi"
      }
    },
    {
      "cell_type": "markdown",
      "source": [
        "What is the importance of closing a file in Python?\n",
        "\n",
        "Prevents data loss and frees system resources.\n"
      ],
      "metadata": {
        "id": "ki-v4BwvnulP"
      }
    },
    {
      "cell_type": "markdown",
      "source": [
        "What is the difference between file.read() and file.readline() in Python?\n",
        "\n",
        "file.read() reads full file; file.readline() reads one line.\n",
        "\n"
      ],
      "metadata": {
        "id": "iG9sEhgRnzJ-"
      }
    },
    {
      "cell_type": "markdown",
      "source": [
        "What is the logging module in Python used for?\n",
        "\n",
        "For logging messages to file or console.\n"
      ],
      "metadata": {
        "id": "nQVxQT5hn5BY"
      }
    },
    {
      "cell_type": "markdown",
      "source": [
        "What is the os module in Python used for in file handling?\n",
        "\n",
        "os module provides file-level operations.\n"
      ],
      "metadata": {
        "id": "sKNiS75qn9Sv"
      }
    },
    {
      "cell_type": "markdown",
      "source": [
        "What are the challenges associated with memory management in Python?\n",
        "\n",
        " Memory fragmentation, garbage collector delay, and leaks.\n",
        "\n"
      ],
      "metadata": {
        "id": "JyjdS6GToBZ2"
      }
    },
    {
      "cell_type": "markdown",
      "source": [
        "How do you raise an exception manually in Python?\n",
        "\n",
        "Use raise keyword with the error type.\n",
        "\n"
      ],
      "metadata": {
        "id": "DaYk_QvCoHPS"
      }
    },
    {
      "cell_type": "markdown",
      "source": [
        "## **PRACTICAL QUESTIONS**"
      ],
      "metadata": {
        "id": "aDCwe4ogoOu7"
      }
    },
    {
      "cell_type": "code",
      "source": [
        "with open(\"file.txt\",\"w\") as f:\n",
        "  f.write(\"hello\")"
      ],
      "metadata": {
        "id": "TTjv4bcXoT5d"
      },
      "execution_count": 2,
      "outputs": []
    },
    {
      "cell_type": "code",
      "source": [
        "with open(\"file.txt\",\"r\") as f:\n",
        "  for line in f:\n",
        "    print(line.strip())"
      ],
      "metadata": {
        "colab": {
          "base_uri": "https://localhost:8080/"
        },
        "id": "-ck4KjUPpQAp",
        "outputId": "25b7c9c6-f541-42c4-9e62-6429c505094b"
      },
      "execution_count": 3,
      "outputs": [
        {
          "output_type": "stream",
          "name": "stdout",
          "text": [
            "hello\n"
          ]
        }
      ]
    },
    {
      "cell_type": "code",
      "source": [
        "try:\n",
        "  open(\"nofile.txt\",\"r\")\n",
        "except FileNotFoundError:\n",
        "  print(\"file missing\")"
      ],
      "metadata": {
        "colab": {
          "base_uri": "https://localhost:8080/"
        },
        "id": "yfm6PkAMpdBF",
        "outputId": "a38a2fe4-7745-4ce5-8376-e325133a8497"
      },
      "execution_count": 4,
      "outputs": [
        {
          "output_type": "stream",
          "name": "stdout",
          "text": [
            "file missing\n"
          ]
        }
      ]
    },
    {
      "cell_type": "code",
      "source": [
        "with open(\"file.txt\",\"r\")as src:\n",
        "  data = src.read()\n",
        "with open(\"dest.txt\",\"w\") as dst:\n",
        "  dst.write(data)"
      ],
      "metadata": {
        "id": "iKzs7ofIprqE"
      },
      "execution_count": 7,
      "outputs": []
    },
    {
      "cell_type": "code",
      "source": [
        "try:\n",
        "  a=10/0\n",
        "except ZeroDivisionError:\n",
        "  print(\"cannot divide by zro\")"
      ],
      "metadata": {
        "colab": {
          "base_uri": "https://localhost:8080/"
        },
        "id": "4JcZiegUqbqj",
        "outputId": "47641d39-2387-4b6e-d908-392ebe56ca79"
      },
      "execution_count": 8,
      "outputs": [
        {
          "output_type": "stream",
          "name": "stdout",
          "text": [
            "cannot divide by zro\n"
          ]
        }
      ]
    },
    {
      "cell_type": "code",
      "source": [
        "import logging\n",
        "logging.basicConfig(filename=\"log.txt\", level=logging.ERROR)\n",
        "try:\n",
        "    1/0\n",
        "except ZeroDivisionError:\n",
        "    logging.error(\"Division by zero error\")\n"
      ],
      "metadata": {
        "colab": {
          "base_uri": "https://localhost:8080/"
        },
        "id": "-7Dc03yqqnyS",
        "outputId": "32e6283b-2909-4dae-f50b-f29cb2453516"
      },
      "execution_count": 9,
      "outputs": [
        {
          "output_type": "stream",
          "name": "stderr",
          "text": [
            "ERROR:root:Division by zero error\n"
          ]
        }
      ]
    },
    {
      "cell_type": "code",
      "source": [
        "import logging\n",
        "logging.basicConfig(level=logging.DEBUG)\n",
        "logging.info(\"Info msg\")\n",
        "logging.warning(\"Warn msg\")\n",
        "logging.error(\"Error msg\")\n"
      ],
      "metadata": {
        "colab": {
          "base_uri": "https://localhost:8080/"
        },
        "id": "Gsm97Wc1q34s",
        "outputId": "568c2e7c-d995-4b13-c81d-804dc109fe66"
      },
      "execution_count": 10,
      "outputs": [
        {
          "output_type": "stream",
          "name": "stderr",
          "text": [
            "WARNING:root:Warn msg\n",
            "ERROR:root:Error msg\n"
          ]
        }
      ]
    },
    {
      "cell_type": "code",
      "source": [
        "try:\n",
        "    open(\"files.txt\", \"r\")\n",
        "except FileNotFoundError:\n",
        "    print(\"File not found\")\n"
      ],
      "metadata": {
        "colab": {
          "base_uri": "https://localhost:8080/"
        },
        "id": "8RivKk8fq7i8",
        "outputId": "e55045aa-2e50-4ee1-8838-e1e44a48ea64"
      },
      "execution_count": 12,
      "outputs": [
        {
          "output_type": "stream",
          "name": "stdout",
          "text": [
            "File not found\n"
          ]
        }
      ]
    },
    {
      "cell_type": "code",
      "source": [
        "with open(\"file.txt\") as f:\n",
        "    lines = f.readlines()\n",
        "print(lines)\n"
      ],
      "metadata": {
        "colab": {
          "base_uri": "https://localhost:8080/"
        },
        "id": "AgWuIqyCrFSA",
        "outputId": "8d6f158c-64da-4f5d-ae95-c3e28896cbab"
      },
      "execution_count": 13,
      "outputs": [
        {
          "output_type": "stream",
          "name": "stdout",
          "text": [
            "['hello']\n"
          ]
        }
      ]
    },
    {
      "cell_type": "code",
      "source": [
        "with open(\"file.txt\", \"a\") as f:\n",
        "    f.write(\"\\nNew line\")\n"
      ],
      "metadata": {
        "id": "ypGx5-_vrJdG"
      },
      "execution_count": 14,
      "outputs": []
    },
    {
      "cell_type": "code",
      "source": [
        "try:\n",
        "    d = {\"a\": 1}\n",
        "    print(d[\"b\"])\n",
        "except KeyError:\n",
        "    print(\"Key not found\")\n"
      ],
      "metadata": {
        "colab": {
          "base_uri": "https://localhost:8080/"
        },
        "id": "3invVbSyrQQe",
        "outputId": "0a9c374e-ba99-4db8-cbd0-d8a867b0f199"
      },
      "execution_count": 15,
      "outputs": [
        {
          "output_type": "stream",
          "name": "stdout",
          "text": [
            "Key not found\n"
          ]
        }
      ]
    },
    {
      "cell_type": "code",
      "source": [
        "try:\n",
        "    a = int(\"abc\")\n",
        "except ValueError:\n",
        "    print(\"Value error\")\n",
        "except TypeError:\n",
        "    print(\"Type error\")\n"
      ],
      "metadata": {
        "colab": {
          "base_uri": "https://localhost:8080/"
        },
        "id": "gdamKZN6rTc3",
        "outputId": "e96489f2-771c-401b-db32-39433be2e119"
      },
      "execution_count": 16,
      "outputs": [
        {
          "output_type": "stream",
          "name": "stdout",
          "text": [
            "Value error\n"
          ]
        }
      ]
    },
    {
      "cell_type": "code",
      "source": [
        "import os\n",
        "if os.path.exists(\"file.txt\"):\n",
        "    print(\"File exists\")\n"
      ],
      "metadata": {
        "colab": {
          "base_uri": "https://localhost:8080/"
        },
        "id": "WRe7JYjbrWhu",
        "outputId": "24ca7a6e-dc9a-4d0b-affa-e44dbd4c66f7"
      },
      "execution_count": 17,
      "outputs": [
        {
          "output_type": "stream",
          "name": "stdout",
          "text": [
            "File exists\n"
          ]
        }
      ]
    },
    {
      "cell_type": "code",
      "source": [
        "import logging\n",
        "logging.basicConfig(level=logging.INFO)\n",
        "logging.info(\"Program started\")\n",
        "logging.error(\"Sample error\")\n"
      ],
      "metadata": {
        "colab": {
          "base_uri": "https://localhost:8080/"
        },
        "id": "bVyItxLTrZXL",
        "outputId": "72bf9868-de3d-4939-9f9c-2bb84c919425"
      },
      "execution_count": 18,
      "outputs": [
        {
          "output_type": "stream",
          "name": "stderr",
          "text": [
            "ERROR:root:Sample error\n"
          ]
        }
      ]
    },
    {
      "cell_type": "code",
      "source": [
        "with open(\"file.txt\", \"r\") as f:\n",
        "    data = f.read()\n",
        "    if data == \"\":\n",
        "        print(\"File is empty\")\n",
        "    else:\n",
        "        print(data)\n"
      ],
      "metadata": {
        "colab": {
          "base_uri": "https://localhost:8080/"
        },
        "id": "FxfPwyIurcTl",
        "outputId": "6b51e647-49e9-4969-a246-2dd679f21d9b"
      },
      "execution_count": 19,
      "outputs": [
        {
          "output_type": "stream",
          "name": "stdout",
          "text": [
            "hello\n",
            "New line\n"
          ]
        }
      ]
    },
    {
      "cell_type": "code",
      "source": [
        "# # import memory_profiler\n",
        "# # from memory_profiler import profile\n",
        "# @profile\n",
        "# def test():\n",
        "#     a = [i for i in range(10000)]\n",
        "# test()\n"
      ],
      "metadata": {
        "id": "CTelSgWZrexe"
      },
      "execution_count": null,
      "outputs": []
    },
    {
      "cell_type": "code",
      "source": [
        "nums = [1,2,3]\n",
        "with open(\"nums.txt\", \"w\") as f:\n",
        "    for i in nums:\n",
        "        f.write(str(i)+\"\\n\")\n"
      ],
      "metadata": {
        "id": "CglOmYzsr0Kx"
      },
      "execution_count": 20,
      "outputs": []
    },
    {
      "cell_type": "code",
      "source": [
        "from logging.handlers import RotatingFileHandler\n",
        "handler = RotatingFileHandler(\"log.txt\", maxBytes=1048576, backupCount=3)\n"
      ],
      "metadata": {
        "id": "Kj7K_OIFr6vz"
      },
      "execution_count": 21,
      "outputs": []
    },
    {
      "cell_type": "code",
      "source": [
        "try:\n",
        "    lst = [1]\n",
        "    print(lst[5])\n",
        "except (IndexError, KeyError):\n",
        "    print(\"Handled\")\n"
      ],
      "metadata": {
        "colab": {
          "base_uri": "https://localhost:8080/"
        },
        "id": "8D20vF_fr-h_",
        "outputId": "3995b35d-c94d-4f91-a17e-282fe1dc4e49"
      },
      "execution_count": 22,
      "outputs": [
        {
          "output_type": "stream",
          "name": "stdout",
          "text": [
            "Handled\n"
          ]
        }
      ]
    },
    {
      "cell_type": "code",
      "source": [
        "with open(\"file.txt\", \"r\") as f:\n",
        "    data = f.read()\n",
        "print(data)\n"
      ],
      "metadata": {
        "colab": {
          "base_uri": "https://localhost:8080/"
        },
        "id": "KlHc2nFqsBpS",
        "outputId": "5457457f-9eff-47aa-9527-f8d10103123a"
      },
      "execution_count": 23,
      "outputs": [
        {
          "output_type": "stream",
          "name": "stdout",
          "text": [
            "hello\n",
            "New line\n"
          ]
        }
      ]
    },
    {
      "cell_type": "code",
      "source": [
        "word = \"python\"\n",
        "with open(\"file.txt\") as f:\n",
        "    print(f.read().count(word))\n"
      ],
      "metadata": {
        "colab": {
          "base_uri": "https://localhost:8080/"
        },
        "id": "lFA4TB0GsEcT",
        "outputId": "83fc3e08-9f64-4d1f-9df0-86d35ae3ca0b"
      },
      "execution_count": 24,
      "outputs": [
        {
          "output_type": "stream",
          "name": "stdout",
          "text": [
            "0\n"
          ]
        }
      ]
    },
    {
      "cell_type": "code",
      "source": [
        "import os\n",
        "if os.stat(\"file.txt\").st_size == 0:\n",
        "    print(\"Empty\")\n"
      ],
      "metadata": {
        "id": "rCUyUKjBsJFs"
      },
      "execution_count": 26,
      "outputs": []
    },
    {
      "cell_type": "code",
      "source": [
        "import logging\n",
        "logging.basicConfig(filename=\"logfile.txt\", level=logging.ERROR)\n",
        "try:\n",
        "    open(\"no.txt\")\n",
        "except Exception as e:\n",
        "    logging.error(f\"Error: {e}\")\n"
      ],
      "metadata": {
        "colab": {
          "base_uri": "https://localhost:8080/"
        },
        "id": "TPK-rR51sSGL",
        "outputId": "5c1254c2-603a-432c-e57a-0c578d8e5f76"
      },
      "execution_count": 27,
      "outputs": [
        {
          "output_type": "stream",
          "name": "stderr",
          "text": [
            "ERROR:root:Error: [Errno 2] No such file or directory: 'no.txt'\n"
          ]
        }
      ]
    }
  ]
}